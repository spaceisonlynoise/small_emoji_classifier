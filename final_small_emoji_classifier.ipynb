{
 "cells": [
  {
   "cell_type": "code",
   "execution_count": 1,
   "metadata": {},
   "outputs": [],
   "source": [
    "#sampling anders, die nachfolgend\n",
    "%store -r emot_texts\n",
    "%store -r emot_labels"
   ]
  },
  {
   "cell_type": "code",
   "execution_count": 36,
   "metadata": {},
   "outputs": [
    {
     "name": "stdout",
     "output_type": "stream",
     "text": [
      "wie bekommt man schnell einen termin beim psychotherapeuten/ psychiater, den die kk zahlt? meine panikstörung bricht wieder aus #jhj\n",
      "mein handy ist mir eben runtergefallen, der bildschirm ist gesplittert und die kamera macht nur komplett schwarze bilder weiß jemand was es kostet, das zu reparieren? #jhj\n",
      "spielt hier jemand monster hunter und hat den safijiva schon besiegt? ich hätte dann einige fragen #jhj\n",
      "hat jemand noch chronische mandelentzündung? hab seit sechs monaten ohne unterbrechung mal mehr mal weniger. gibt es hier jemanden der das so extrem & lange hatte & sie sich hat rausnehmen lassen? ich kann nicht mehr #jhj\n",
      "schonmal jemand strafantrag (nicht anzeige!) gestellt & kann mir sagen, wann er mal irgendwas von der staatsanwaltschaft gehört hat oder seine aussage zu protokoll geben musste? danke #jhj #\n"
     ]
    }
   ],
   "source": [
    "#test for hashtags\n",
    "emotional = emot_texts[:len(emot_texts)//2]\n",
    "nonemotional = emot_texts[len(emot_texts)//2:]\n",
    "\n",
    "for post in emotional:\n",
    "    if \"#jhj\" in post:\n",
    "        print(post)\n",
    "    elif \"#geschichteammorgen\" in post:\n",
    "        print(post)\n",
    " "
   ]
  },
  {
   "cell_type": "code",
   "execution_count": 2,
   "metadata": {},
   "outputs": [],
   "source": [
    "from sklearn.feature_extraction.text import CountVectorizer\n",
    "import nltk"
   ]
  },
  {
   "cell_type": "code",
   "execution_count": 3,
   "metadata": {},
   "outputs": [],
   "source": [
    "#######clean#######"
   ]
  },
  {
   "cell_type": "code",
   "execution_count": 4,
   "metadata": {},
   "outputs": [],
   "source": [
    "from num2words import num2words\n",
    "#convert everything to lowercase\n",
    "emot_texts = [x.lower() for x in emot_texts]\n",
    "#exchange numbers with their string representation\n",
    "#make numbers to text\n",
    "temp = []\n",
    "without_num = []\n",
    "for post in emot_texts:\n",
    "    for word in post.split(\" \"):\n",
    "        if word.isdigit():\n",
    "            #print(word)\n",
    "            word = num2words(word, lang=\"de\")\n",
    "        temp.append(word)\n",
    "    without_num.append((' '.join(temp)))\n",
    "    temp = []\n",
    "emot_texts = without_num"
   ]
  },
  {
   "cell_type": "code",
   "execution_count": 5,
   "metadata": {},
   "outputs": [],
   "source": [
    "##########feature extraction################"
   ]
  },
  {
   "cell_type": "code",
   "execution_count": 28,
   "metadata": {},
   "outputs": [
    {
     "name": "stdout",
     "output_type": "stream",
     "text": [
      "wie bekommt man schnell einen termin beim psychotherapeuten/ psychiater, den die kk zahlt? meine panikstörung bricht wieder aus #jhj\n",
      "mein handy ist mir eben runtergefallen, der bildschirm ist gesplittert und die kamera macht nur komplett schwarze bilder weiß jemand was es kostet, das zu reparieren? #jhj\n",
      "spielt hier jemand monster hunter und hat den safijiva schon besiegt? ich hätte dann einige fragen #jhj\n",
      "hat jemand noch chronische mandelentzündung? hab seit sechs monaten ohne unterbrechung mal mehr mal weniger. gibt es hier jemanden der das so extrem & lange hatte & sie sich hat rausnehmen lassen? ich kann nicht mehr #jhj\n",
      "schonmal jemand strafantrag (nicht anzeige!) gestellt & kann mir sagen, wann er mal irgendwas von der staatsanwaltschaft gehört hat oder seine aussage zu protokoll geben musste? danke #jhj #\n",
      "weiß wer was passiert falls ich den monat mehr als achtzig arbeitstunden habe als student? #jhj\n",
      "hab letzte nacht zwischen escape, schaf und bahnhof meine grüne wollmütze mit dem schriftzug brynje verloren. ich hoffe hier gibts nen finder das wäre schön :) #jhj\n",
      "10% flixbus gutschein, nur in der app einlösbar : vca9744k4ge #jhj #vielspaß\n",
      "meine freundin meinte ich wäre vom charakter wie frodo aus herr der ringe. ich kenne mich da nicht so aus, aber das ist doch ein großer held oder? #jhj\n",
      "-bvg abo ist es möglich, sein bvg abo (bc) online zu erweitern (abc)? #jhj\n",
      "könnt ihr mir restaurants in münchen empfehlen, wo man gut essen kann, die aber preislich ok sind? gerne auch etwas ausgefallenere locations... #jhj\n",
      "ich wurde kürzlich mit dem auto meiner freundin geblitzt (8km/h zu schnell 15€). alles halb so wild, aber was ist, wenn sie angibt, dass ich der fahrer war? weil ich ja auf das auto nicht versichert bin. spielt das eine rolle? #jhj\n",
      "hat primark (aufm alexanderplatz) noch die vw sachen? #jhj\n",
      "weiß jemand zimmerpflanzen, die auch in dunklen ecken überleben? #jhj\n",
      "war schonmal jemand zu silvester in amsterdam und kann mir eine party(location) empfehlen? bin alleine dort :) #jhj\n",
      "wie ist eigentlich der tübinger master in wirtschaftswissenschaften angesehen? gute adresse oder gibt es da bessere universitäten? #jhj\n",
      "an die medizin studenten. wie viel freizeit im bzw zwischen dem studium habt ihr noch? also für urlaub bzw mal ein wochenende weg fahren usw.? #jhj\n",
      "hat ikea morgen offen? #jhj\n",
      "hab mal ne frage, ich arbeite für 9,50€ die stunde und habe im november eine schicht übernommen (5h dauer) für die ich nur 19,35€ überwiesen bekommen habe. was soll das ? ist das ein versehen, oder was ? #jhj\n",
      "kann mir jemand einen guten und professionellen piercer empfehlen? #jhj\n",
      "kann man call of duty am handy spielen ohne dass man dort seinen freunden als online gezeigt wird? kb mit denen zu spielen aber will zocken #jhj\n",
      "kann ich im dm am nonnenhaus meine einkäufe mit gratis geschenkpapier einpacken? #jhj #sparamuasch\n",
      "jemand hier erfahrungen mit penispumpen? inwiefern hat sie euer sexleben bereichert? #jhj\n"
     ]
    },
    {
     "data": {
      "text/plain": [
       "23"
      ]
     },
     "execution_count": 28,
     "metadata": {},
     "output_type": "execute_result"
    }
   ],
   "source": [
    "from copy import deepcopy\n",
    "#hashtag-features\n",
    "\n",
    "#EMOTIONAL\n",
    "binary_emotional_hashtags = deepcopy(emot_texts) #FEATURE\n",
    "for i, post in enumerate(binary_emotional_hashtags):\n",
    "    if \"#mimimi\" in post:\n",
    "        binary_emotional_hashtags[i] = [1]\n",
    "    elif \"#DBakel\" in post:\n",
    "        binary_emotional_hashtags[i] = [1]\n",
    "    elif \"#dbakel\" in post:\n",
    "        binary_emotional_hashtags[i] = [1]\n",
    "    elif \"#DBakel\" in post:\n",
    "        binary_emotional_hashtags[i] = [1]\n",
    "    elif \"#dankemerkel\" in post:\n",
    "        binary_emotional_hashtags[i] = [1]\n",
    "    elif \"#dankefürnix\" in post:\n",
    "        binary_emotional_hashtags[i] = [1]\n",
    "    elif \"#wudel\" in post:\n",
    "        binary_emotional_hashtags[i] = [1]\n",
    "    elif \"#Wudel\" in post:\n",
    "        binary_emotional_hashtags[i] = [1]\n",
    "    elif \"#verzweifelt\" in post:\n",
    "        binary_emotional_hashtags[i] = [1]\n",
    "        \n",
    "for i, post in enumerate(binary_emotional_hashtags):\n",
    "    if not post == [1]:\n",
    "        binary_emotional_hashtags[i] = [0]\n",
    "        \n",
    "#NON EMOTIONAL\n",
    "binary_non_emotional_hashtags = deepcopy(emot_texts) #FEATURE\n",
    "for i, post in enumerate(binary_non_emotional_hashtags):\n",
    "    if \"#jhj\" in post:\n",
    "        print(post)\n",
    "        binary_non_emotional_hashtags[i] = [1]\n",
    "    elif \"#geschichteammorgen\" in post:\n",
    "        print(post)\n",
    "        binary_non_emotional_hashtags[i] = [1]\n",
    "for i, post in enumerate(binary_non_emotional_hashtags):\n",
    "    if not post == [1]:\n",
    "        binary_non_emotional_hashtags[i] = [0]        \n",
    "len(binary_non_emotional_hashtags) \n",
    "\n",
    "num_of_hashtags = 0\n",
    "\n",
    "for li in binary_non_emotional_hashtags:\n",
    "    for i in li:\n",
    "        if i == 1:\n",
    "            num_of_hashtags +=1\n",
    "            \n",
    "            \n",
    "num_of_hashtags\n"
   ]
  },
  {
   "cell_type": "code",
   "execution_count": 9,
   "metadata": {},
   "outputs": [],
   "source": [
    "#ngram feature matrices\n",
    "\n",
    "#unigram\n",
    "uni_vectorizer = CountVectorizer(ngram_range=(1,1))\n",
    "unigram_feature_vector = uni_vectorizer.fit_transform(emot_texts).toarray() \n",
    "\n",
    "#uni and bigram\n",
    "uni_bi_vectorizer = CountVectorizer(ngram_range=(1,2))\n",
    "unigram_bi_feature_vector = uni_bi_vectorizer.fit_transform(emot_texts).toarray() \n",
    "\n",
    "#bigram\n",
    "bi_vectorizer = CountVectorizer(ngram_range=(2,2))\n",
    "bigram_feature_vector = bi_vectorizer.fit_transform(emot_texts).toarray()\n",
    "\n",
    "\n",
    "#trigram\n",
    "tri_vectorizer = CountVectorizer(ngram_range=(3,3))\n",
    "trigram_feature_vector = tri_vectorizer.fit_transform(emot_texts).toarray() \n"
   ]
  },
  {
   "cell_type": "code",
   "execution_count": 10,
   "metadata": {},
   "outputs": [],
   "source": [
    "#tfidf vectorizer ohne stopwords zu löschen\n",
    "from sklearn.feature_extraction.text import TfidfVectorizer\n",
    "tfidf_vectorizer = TfidfVectorizer()\n",
    "tfidf = tfidf_vectorizer.fit_transform(emot_texts).toarray() #feature matrix"
   ]
  },
  {
   "cell_type": "code",
   "execution_count": 11,
   "metadata": {},
   "outputs": [],
   "source": [
    "#numerical features\n",
    "import numpy\n",
    "import string\n",
    "from nltk import tokenize\n",
    "\n",
    "post_length = [] #feature vector\n",
    "counter = 0\n",
    "number_of_punct = [] #feature vector\n",
    "sentence_lengths = [] \n",
    "tokenized_posts = []\n",
    "for text in emot_texts:\n",
    "    post_length.append([len(text.split())])\n",
    "    tokenized_posts.append(tokenize.sent_tokenize(text))\n",
    "    for char in text:\n",
    "        if char in string.punctuation:\n",
    "            counter+=1\n",
    "    number_of_punct.append([counter])\n",
    "    counter = 0\n",
    "sent = []\n",
    "for post in tokenized_posts:\n",
    "    for sentence in post:\n",
    "        sent.append(len(sentence.split()))\n",
    "    sentence_lengths.append(sent)\n",
    "    sent = []\n",
    "#get average\n",
    "average_sent_len = [] #feature vector\n",
    "for post in sentence_lengths:\n",
    "    average_sent_len.append([sum(post)/len(post)])"
   ]
  },
  {
   "cell_type": "code",
   "execution_count": 12,
   "metadata": {},
   "outputs": [
    {
     "data": {
      "text/plain": [
       "1269"
      ]
     },
     "execution_count": 12,
     "metadata": {},
     "output_type": "execute_result"
    }
   ],
   "source": [
    "#POS features\n",
    "import spacy\n",
    "nlp = spacy.load('de_core_news_md')\n",
    "\n",
    "#get POStags via spacy\n",
    "spacy_obj = []\n",
    "post_as_pos_tags = []\n",
    "as_pos = [] #this\n",
    "for text in emot_texts:\n",
    "    spacy_obj.append(nlp(text))\n",
    "for text in spacy_obj:\n",
    "    for token in text:\n",
    "        post_as_pos_tags.append(token.tag_)\n",
    "    as_pos.append(' '.join(post_as_pos_tags))\n",
    "    post_as_pos_tags = []\n",
    "\n",
    "#neue POS-features\n",
    "ADV_count = []\n",
    "PPER_count = []\n",
    "comma_count = []\n",
    "NE_count = []\n",
    "NN_count = []\n",
    "ADJD_count = []\n",
    "for post in as_pos:\n",
    "    ADV_count.append([post.count(\"ADV\")])\n",
    "    PPER_count.append([post.count(\"PPER\")])\n",
    "    comma_count.append([post.count(\"$,\")])\n",
    "    NE_count.append([post.count(\"NE\")])\n",
    "    NN_count.append([post.count(\"NN\")])\n",
    "    ADJD_count.append([post.count(\"ADJD\")])\n",
    "    \n",
    "len(ADJD_count)"
   ]
  },
  {
   "cell_type": "code",
   "execution_count": 13,
   "metadata": {},
   "outputs": [
    {
     "name": "stdout",
     "output_type": "stream",
     "text": [
      "(1269, 300)\n"
     ]
    }
   ],
   "source": [
    "#document vectors as features\n",
    "\n",
    "spacy_posts = []\n",
    "vector_posts = []\n",
    "temp_post = []\n",
    "for post in emot_texts:\n",
    "    spacy_posts.append(nlp(post))\n",
    "for post in spacy_posts:\n",
    "    for word in post:\n",
    "        temp_post.append(word.vector)\n",
    "    vector_posts.append(temp_post)\n",
    "    temp_post = []\n",
    "    \n",
    "mean_vector_posts = []\n",
    "for post_list in vector_posts:\n",
    "    #print(len(post))\n",
    "    mean_vector_posts.append([sum(post_list)/len(post_list)])\n",
    "    \n",
    "word_vector_feature = numpy.concatenate(mean_vector_posts, axis=0)\n",
    "print(word_vector_feature.shape)   \n"
   ]
  },
  {
   "cell_type": "code",
   "execution_count": 14,
   "metadata": {},
   "outputs": [
    {
     "name": "stdout",
     "output_type": "stream",
     "text": [
      "1269\n",
      "from  (1269, 55, 300)  to  (1269, 16500)\n"
     ]
    }
   ],
   "source": [
    "#wordvectors as features\n",
    "\n",
    "#make all to numpy arrays\n",
    "np_posts = []\n",
    "for p in vector_posts:\n",
    "    np_posts.append(numpy.array(p))\n",
    "       \n",
    "#get matrix\n",
    "padded_arrays = []\n",
    "for p in np_posts:\n",
    "       padded_arrays.append(numpy.pad(p, ((0, (55 - p.shape[0])), (0, 0)), 'constant', constant_values=0))\n",
    "print(len(padded_arrays))\n",
    "\n",
    "np_pad_arr = numpy.array(padded_arrays)\n",
    "np_pad_arr.shape #shape (97, 48, 300)\n",
    "\n",
    "nodoc = numpy.reshape (np_pad_arr, (1269, -1)) #FEATURE VECTOR FOR WORDVECTORS\n",
    "print(\"from \", np_pad_arr.shape, \" to \", nodoc.shape) #just a test for the right dimensions\n",
    "\n"
   ]
  },
  {
   "cell_type": "code",
   "execution_count": 15,
   "metadata": {},
   "outputs": [],
   "source": [
    "###################combine feature-vectors:##########################"
   ]
  },
  {
   "cell_type": "code",
   "execution_count": 16,
   "metadata": {},
   "outputs": [
    {
     "name": "stdout",
     "output_type": "stream",
     "text": [
      "1269\n",
      "1269\n"
     ]
    }
   ],
   "source": [
    "#combine feature-vectors:\n",
    "\n",
    "#uni-grams\n",
    "#unigram_feature_vector\n",
    "\n",
    "#bigrams\n",
    "#bigram_feature_vector\n",
    "\n",
    "#trigrams\n",
    "#trigram_feature_vector\n",
    "\n",
    "#unigrams and bigrams\n",
    "#unigram_bigram_feature_vector\n",
    "\n",
    "#tfidf\n",
    "\n",
    "#alle POS-features\n",
    "pos = numpy.append(ADV_count, comma_count, 1)\n",
    "pos = numpy.append(pos, NE_count, 1)\n",
    "pos = numpy.append(pos, NN_count, 1)\n",
    "pos = numpy.append(pos, ADJD_count, 1)\n",
    "pos = numpy.append(pos, PPER_count, 1)\n",
    "\n",
    "#numerical features\n",
    "#sentence_length\n",
    "post_sent = numpy.append(post_length, average_sent_len, 1)\n",
    "post_sent_punct = numpy.append(post_sent, number_of_punct, 1)\n",
    "\n",
    "#documents vectors\n",
    "#word_vector_feature\n",
    "\n",
    "#wordvectors\n",
    "#nodoc\n",
    "\n",
    "#hashtag features\n",
    "hash_ = numpy.append(binary_emotional_hashtags, binary_non_emotional_hashtags, 1)\n",
    "print(len(hash_))\n",
    "# 3) uni-grams, bigrams, trigrams\n",
    "uni_bi_tri_feat_vec = numpy.append(unigram_feature_vector, bigram_feature_vector, 1)\n",
    "uni_bi_tri_feat_vec = numpy.append(uni_bi_tri_feat_vec,trigram_feature_vector, 1)\n",
    "\n",
    "# 4) tfidf and bigrams\n",
    "tfidf_bigram = numpy.append(tfidf, bigram_feature_vector, 1)\n",
    "\n",
    "# 5) unigrams and POS features\n",
    "uni_pos_new = numpy.append(unigram_feature_vector, pos, 1)\n",
    "\n",
    "# 6) unigrams and numerical features\n",
    "uni_num = numpy.append(unigram_feature_vector, post_sent_punct, 1)\n",
    "\n",
    "# 7) unigrams and POS tags and numerical features\n",
    "uni_num_pos = numpy.append(uni_num, pos, 1)\n",
    "\n",
    "# 8) Bigrams and POS\n",
    "bi_pos_new = numpy.append(bigram_feature_vector, pos, 1)\n",
    "\n",
    "# 9) bigrams and numerical features\n",
    "bi_num = numpy.append(bigram_feature_vector, post_sent_punct, 1)\n",
    "\n",
    "# 10) bigrams and POS tags and numerical features\n",
    "bi_num_pos = numpy.append(bi_num, pos, 1)\n",
    "\n",
    "# 11) tfidf and POS\n",
    "tfidf_pos_new = numpy.append(tfidf, pos, 1)\n",
    "\n",
    "# 12) tfidf and numerical features\n",
    "tfidf_num = numpy.append(tfidf, post_sent_punct, 1)\n",
    "\n",
    "# 13) tfidf and POS tags and numerical features\n",
    "tfidf_num_pos = numpy.append(tfidf_num, pos, 1)\n",
    "\n",
    "# 14) wordvec and POS\n",
    "wordvec_pos = numpy.append(nodoc, pos, 1)\n",
    "\n",
    "# 15) wordvec and numerical features\n",
    "wordvec_num = numpy.append(nodoc, post_sent_punct, 1)\n",
    "\n",
    "# 16) wordvec and POS tags and numerical features\n",
    "wordvec_num_pos = numpy.append(wordvec_num, pos, 1)\n",
    "\n",
    "# 17) docvec and POS\n",
    "docvec_pos = numpy.append(word_vector_feature, pos, 1)\n",
    "\n",
    "# 18) docvec and numerical features\n",
    "docvec_num = numpy.append(word_vector_feature, post_sent_punct, 1)\n",
    "\n",
    "# 19) docvec and POS tags and numerical features\n",
    "docvec_num_pos = numpy.append(docvec_num, pos, 1)\n",
    "\n",
    "\n",
    "# 20)POS and numerical features\n",
    "pos_post_sent_len = numpy.append(pos, post_sent, 1)\n",
    "pos_num = numpy.append(post_sent_punct, pos, 1)\n",
    "\n",
    "# 21) alle\n",
    "all_features = numpy.append(unigram_feature_vector, bigram_feature_vector, 1)\n",
    "all_features = numpy.append(all_features, trigram_feature_vector , 1)\n",
    "all_features = numpy.append(all_features, tfidf, 1)\n",
    "all_features = numpy.append(all_features,post_sent_punct, 1)\n",
    "all_features = numpy.append(all_features, pos, 1)\n",
    "all_features = numpy.append(all_features,nodoc, 1)\n",
    "all_features = numpy.append(all_features,word_vector_feature, 1)\n",
    "all_features = numpy.append(all_features,hash_, 1)\n",
    "\n",
    "# 22) hash unigram\n",
    "hash_uni = numpy.append(unigram_feature_vector, hash_, 1)\n",
    "print(len(hash_uni))\n",
    "# 23) hash bigram\n",
    "hash_bi = numpy.append(bigram_feature_vector,hash_, 1)\n",
    "# 24) hash tfidf\n",
    "hash_tfidf = numpy.append(tfidf,hash_, 1)\n",
    "# 25) hash wordvectors\n",
    "hash_wordvec = numpy.append(nodoc,hash_, 1)\n",
    "# 26) hash docvecs\n",
    "hash_docvec = numpy.append(word_vector_feature,hash_, 1)\n"
   ]
  },
  {
   "cell_type": "code",
   "execution_count": 39,
   "metadata": {},
   "outputs": [],
   "source": [
    "#########train and test######################"
   ]
  },
  {
   "cell_type": "code",
   "execution_count": 40,
   "metadata": {},
   "outputs": [],
   "source": [
    "######logistic regression########"
   ]
  },
  {
   "cell_type": "code",
   "execution_count": 18,
   "metadata": {},
   "outputs": [],
   "source": [
    "from numpy import mean\n",
    "from numpy import std\n",
    "from sklearn.linear_model import LogisticRegression\n",
    "from sklearn.model_selection import KFold\n",
    "from sklearn.model_selection import cross_val_score\n",
    "from sklearn.metrics import classification_report, confusion_matrix, accuracy_score\n",
    "from sklearn.model_selection import cross_val_predict"
   ]
  },
  {
   "cell_type": "code",
   "execution_count": 131,
   "metadata": {},
   "outputs": [
    {
     "name": "stdout",
     "output_type": "stream",
     "text": [
      "scores: [0.66141732 0.59055118 0.63779528 0.61417323 0.63779528 0.59055118\n",
      " 0.59055118 0.57480315 0.59055118 0.61904762]\n",
      "Accuracy: 0.611 (0.027)\n"
     ]
    }
   ],
   "source": [
    "X = unigram_feature_vector#data\n",
    "y = emot_labels#target\n",
    "\n",
    "kf = KFold(n_splits=10, random_state=1, shuffle=True)\n",
    "\n",
    "# create model\n",
    "model = LogisticRegression()\n",
    "\n",
    "# evaluate model\n",
    "scores = cross_val_score(model, X, y, scoring='accuracy', cv=kf, n_jobs=-1)\n",
    "print(\"scores:\", scores)\n",
    "\n",
    "# report performance\n",
    "print('Accuracy: %.3f (%.3f)' % (mean(scores), std(scores)))\n"
   ]
  },
  {
   "cell_type": "code",
   "execution_count": 132,
   "metadata": {},
   "outputs": [
    {
     "name": "stdout",
     "output_type": "stream",
     "text": [
      "scores: [0.5511811  0.5511811  0.5984252  0.58267717 0.59055118 0.47244094\n",
      " 0.49606299 0.62992126 0.56692913 0.64285714]\n",
      "Accuracy: 0.568 (0.051)\n"
     ]
    }
   ],
   "source": [
    "X = bigram_feature_vector#data\n",
    "y = emot_labels#target\n",
    "\n",
    "kf = KFold(n_splits=10, random_state=1, shuffle=True)\n",
    "\n",
    "# create model\n",
    "model = LogisticRegression()\n",
    "\n",
    "# evaluate model\n",
    "scores = cross_val_score(model, X, y, scoring='accuracy', cv=kf, n_jobs=-1)\n",
    "print(\"scores:\", scores)\n",
    "\n",
    "# report performance\n",
    "print('Accuracy: %.3f (%.3f)' % (mean(scores), std(scores)))"
   ]
  },
  {
   "cell_type": "code",
   "execution_count": 133,
   "metadata": {},
   "outputs": [
    {
     "name": "stdout",
     "output_type": "stream",
     "text": [
      "scores: [0.54330709 0.46456693 0.5511811  0.49606299 0.58267717 0.46456693\n",
      " 0.50393701 0.51968504 0.54330709 0.50793651]\n",
      "Accuracy: 0.518 (0.036)\n"
     ]
    }
   ],
   "source": [
    "X = trigram_feature_vector#data\n",
    "y = emot_labels#target\n",
    "\n",
    "kf = KFold(n_splits=10, random_state=1, shuffle=True)\n",
    "\n",
    "# create model\n",
    "model = LogisticRegression()\n",
    "\n",
    "# evaluate model\n",
    "scores = cross_val_score(model, X, y, scoring='accuracy', cv=kf, n_jobs=-1)\n",
    "print(\"scores:\", scores)\n",
    "\n",
    "# report performance\n",
    "print('Accuracy: %.3f (%.3f)' % (mean(scores), std(scores)))"
   ]
  },
  {
   "cell_type": "code",
   "execution_count": 134,
   "metadata": {},
   "outputs": [
    {
     "name": "stdout",
     "output_type": "stream",
     "text": [
      "scores: [0.66141732 0.5984252  0.61417323 0.65354331 0.64566929 0.64566929\n",
      " 0.59055118 0.57480315 0.63779528 0.61111111]\n",
      "Accuracy: 0.623 (0.028)\n"
     ]
    }
   ],
   "source": [
    "X = tfidf#data\n",
    "y = emot_labels#target\n",
    "\n",
    "kf = KFold(n_splits=10, random_state=1, shuffle=True)\n",
    "\n",
    "# create model\n",
    "model = LogisticRegression()\n",
    "\n",
    "# evaluate model\n",
    "scores = cross_val_score(model, X, y, scoring='accuracy', cv=kf, n_jobs=-1)\n",
    "print(\"scores:\", scores)\n",
    "\n",
    "# report performance\n",
    "print('Accuracy: %.3f (%.3f)' % (mean(scores), std(scores)))"
   ]
  },
  {
   "cell_type": "code",
   "execution_count": 135,
   "metadata": {},
   "outputs": [
    {
     "name": "stdout",
     "output_type": "stream",
     "text": [
      "scores: [0.60629921 0.5511811  0.69291339 0.52755906 0.62204724 0.59055118\n",
      " 0.56692913 0.52755906 0.66141732 0.55555556]\n",
      "Accuracy: 0.590 (0.053)\n"
     ]
    }
   ],
   "source": [
    "X = post_sent_punct#data\n",
    "y = emot_labels#target\n",
    "\n",
    "kf = KFold(n_splits=10, random_state=1, shuffle=True)\n",
    "\n",
    "# create model\n",
    "model = LogisticRegression()\n",
    "\n",
    "# evaluate model\n",
    "scores = cross_val_score(model, X, y, scoring='accuracy', cv=kf, n_jobs=-1)\n",
    "print(\"scores:\", scores)\n",
    "\n",
    "# report performance\n",
    "print('Accuracy: %.3f (%.3f)' % (mean(scores), std(scores)))"
   ]
  },
  {
   "cell_type": "code",
   "execution_count": 136,
   "metadata": {},
   "outputs": [
    {
     "name": "stdout",
     "output_type": "stream",
     "text": [
      "scores: [0.59055118 0.48818898 0.61417323 0.57480315 0.61417323 0.53543307\n",
      " 0.50393701 0.48818898 0.5511811  0.53174603]\n",
      "Accuracy: 0.549 (0.046)\n"
     ]
    }
   ],
   "source": [
    "X = pos#data\n",
    "y = emot_labels#target\n",
    "\n",
    "kf = KFold(n_splits=10, random_state=1, shuffle=True)\n",
    "\n",
    "# create model\n",
    "model = LogisticRegression()\n",
    "\n",
    "# evaluate model\n",
    "scores = cross_val_score(model, X, y, scoring='accuracy', cv=kf, n_jobs=-1)\n",
    "print(\"scores:\", scores)\n",
    "\n",
    "# report performance\n",
    "print('Accuracy: %.3f (%.3f)' % (mean(scores), std(scores)))"
   ]
  },
  {
   "cell_type": "code",
   "execution_count": 137,
   "metadata": {},
   "outputs": [
    {
     "name": "stdout",
     "output_type": "stream",
     "text": [
      "scores: [0.5984252  0.58267717 0.60629921 0.59055118 0.57480315 0.68503937\n",
      " 0.60629921 0.53543307 0.5984252  0.54761905]\n",
      "Accuracy: 0.593 (0.038)\n"
     ]
    }
   ],
   "source": [
    "X = nodoc#data\n",
    "y = emot_labels#target\n",
    "\n",
    "kf = KFold(n_splits=10, random_state=1, shuffle=True)\n",
    "\n",
    "# create model\n",
    "model = LogisticRegression()\n",
    "\n",
    "# evaluate model\n",
    "scores = cross_val_score(model, X, y, scoring='accuracy', cv=kf, n_jobs=-1)\n",
    "print(\"scores:\", scores)\n",
    "\n",
    "# report performance\n",
    "print('Accuracy: %.3f (%.3f)' % (mean(scores), std(scores)))"
   ]
  },
  {
   "cell_type": "code",
   "execution_count": 138,
   "metadata": {},
   "outputs": [
    {
     "name": "stdout",
     "output_type": "stream",
     "text": [
      "scores: [0.57480315 0.66929134 0.69291339 0.65354331 0.66141732 0.66141732\n",
      " 0.62204724 0.66141732 0.64566929 0.65079365]\n",
      "Accuracy: 0.649 (0.030)\n"
     ]
    }
   ],
   "source": [
    "X = word_vector_feature#data\n",
    "y = emot_labels#target\n",
    "\n",
    "kf = KFold(n_splits=10, random_state=1, shuffle=True)\n",
    "\n",
    "# create model\n",
    "model = LogisticRegression()\n",
    "\n",
    "# evaluate model\n",
    "scores = cross_val_score(model, X, y, scoring='accuracy', cv=kf, n_jobs=-1)\n",
    "print(\"scores:\", scores)\n",
    "\n",
    "# report performance\n",
    "print('Accuracy: %.3f (%.3f)' % (mean(scores), std(scores)))"
   ]
  },
  {
   "cell_type": "code",
   "execution_count": null,
   "metadata": {},
   "outputs": [],
   "source": [
    "##combinations##"
   ]
  },
  {
   "cell_type": "code",
   "execution_count": 139,
   "metadata": {},
   "outputs": [
    {
     "name": "stdout",
     "output_type": "stream",
     "text": [
      "scores: [0.62992126 0.5984252  0.65354331 0.58267717 0.65354331 0.61417323\n",
      " 0.5511811  0.62204724 0.63779528 0.6031746 ]\n",
      "Accuracy: 0.615 (0.030)\n"
     ]
    }
   ],
   "source": [
    "#2\n",
    "X = unigram_bi_feature_vector#data\n",
    "y = emot_labels#target\n",
    "\n",
    "kf = KFold(n_splits=10, random_state=1, shuffle=True)\n",
    "\n",
    "# create model\n",
    "model = LogisticRegression()\n",
    "\n",
    "# evaluate model\n",
    "scores = cross_val_score(model, X, y, scoring='accuracy', cv=kf, n_jobs=-1)\n",
    "print(\"scores:\", scores)\n",
    "\n",
    "# report performance\n",
    "print('Accuracy: %.3f (%.3f)' % (mean(scores), std(scores)))"
   ]
  },
  {
   "cell_type": "code",
   "execution_count": 140,
   "metadata": {},
   "outputs": [
    {
     "name": "stdout",
     "output_type": "stream",
     "text": [
      "scores: [0.62992126 0.5984252  0.65354331 0.58267717 0.64566929 0.61417323\n",
      " 0.58267717 0.62992126 0.65354331 0.6031746 ]\n",
      "Accuracy: 0.619 (0.026)\n"
     ]
    }
   ],
   "source": [
    "#3\n",
    "X = uni_bi_tri_feat_vec#data\n",
    "y = emot_labels#target\n",
    "\n",
    "kf = KFold(n_splits=10, random_state=1, shuffle=True)\n",
    "\n",
    "# create model\n",
    "model = LogisticRegression()\n",
    "\n",
    "# evaluate model\n",
    "scores = cross_val_score(model, X, y, scoring='accuracy', cv=kf, n_jobs=-1)\n",
    "print(\"scores:\", scores)\n",
    "\n",
    "# report performance\n",
    "print('Accuracy: %.3f (%.3f)' % (mean(scores), std(scores)))"
   ]
  },
  {
   "cell_type": "code",
   "execution_count": 141,
   "metadata": {},
   "outputs": [
    {
     "name": "stdout",
     "output_type": "stream",
     "text": [
      "scores: [0.58267717 0.55905512 0.59055118 0.56692913 0.66141732 0.54330709\n",
      " 0.52755906 0.62992126 0.60629921 0.64285714]\n",
      "Accuracy: 0.591 (0.042)\n"
     ]
    }
   ],
   "source": [
    "#4\n",
    "X = tfidf_bigram#data\n",
    "y = emot_labels#target\n",
    "\n",
    "kf = KFold(n_splits=10, random_state=1, shuffle=True)\n",
    "\n",
    "# create model\n",
    "model = LogisticRegression()\n",
    "\n",
    "# evaluate model\n",
    "scores = cross_val_score(model, X, y, scoring='accuracy', cv=kf, n_jobs=-1)\n",
    "print(\"scores:\", scores)\n",
    "\n",
    "# report performance\n",
    "print('Accuracy: %.3f (%.3f)' % (mean(scores), std(scores)))"
   ]
  },
  {
   "cell_type": "code",
   "execution_count": 142,
   "metadata": {},
   "outputs": [
    {
     "name": "stdout",
     "output_type": "stream",
     "text": [
      "scores: [0.66929134 0.55905512 0.62992126 0.5984252  0.62204724 0.5984252\n",
      " 0.57480315 0.57480315 0.5984252  0.6031746 ]\n",
      "Accuracy: 0.603 (0.030)\n"
     ]
    }
   ],
   "source": [
    "#5\n",
    "X = uni_pos_new#data\n",
    "y = emot_labels#target\n",
    "\n",
    "kf = KFold(n_splits=10, random_state=1, shuffle=True)\n",
    "\n",
    "# create model\n",
    "model = LogisticRegression()\n",
    "\n",
    "# evaluate model\n",
    "scores = cross_val_score(model, X, y, scoring='accuracy', cv=kf, n_jobs=-1)\n",
    "print(\"scores:\", scores)\n",
    "\n",
    "# report performance\n",
    "print('Accuracy: %.3f (%.3f)' % (mean(scores), std(scores)))"
   ]
  },
  {
   "cell_type": "code",
   "execution_count": 143,
   "metadata": {},
   "outputs": [
    {
     "name": "stdout",
     "output_type": "stream",
     "text": [
      "scores: [0.63779528 0.58267717 0.63779528 0.62992126 0.62204724 0.5984252\n",
      " 0.62992126 0.61417323 0.65354331 0.6031746 ]\n",
      "Accuracy: 0.621 (0.020)\n"
     ]
    }
   ],
   "source": [
    "#6\n",
    "X = uni_num#data\n",
    "y = emot_labels#target\n",
    "\n",
    "kf = KFold(n_splits=10, random_state=1, shuffle=True)\n",
    "\n",
    "# create model\n",
    "model = LogisticRegression()\n",
    "\n",
    "# evaluate model\n",
    "scores = cross_val_score(model, X, y, scoring='accuracy', cv=kf, n_jobs=-1)\n",
    "print(\"scores:\", scores)\n",
    "\n",
    "# report performance\n",
    "print('Accuracy: %.3f (%.3f)' % (mean(scores), std(scores)))"
   ]
  },
  {
   "cell_type": "code",
   "execution_count": 144,
   "metadata": {},
   "outputs": [
    {
     "name": "stdout",
     "output_type": "stream",
     "text": [
      "scores: [0.62204724 0.57480315 0.59055118 0.62992126 0.65354331 0.57480315\n",
      " 0.63779528 0.5984252  0.65354331 0.61111111]\n",
      "Accuracy: 0.615 (0.028)\n"
     ]
    }
   ],
   "source": [
    "#7\n",
    "X = uni_num_pos#data\n",
    "y = emot_labels#target\n",
    "\n",
    "kf = KFold(n_splits=10, random_state=1, shuffle=True)\n",
    "\n",
    "# create model\n",
    "model = LogisticRegression()\n",
    "\n",
    "# evaluate model\n",
    "scores = cross_val_score(model, X, y, scoring='accuracy', cv=kf, n_jobs=-1)\n",
    "print(\"scores:\", scores)\n",
    "\n",
    "# report performance\n",
    "print('Accuracy: %.3f (%.3f)' % (mean(scores), std(scores)))"
   ]
  },
  {
   "cell_type": "code",
   "execution_count": 145,
   "metadata": {},
   "outputs": [
    {
     "name": "stdout",
     "output_type": "stream",
     "text": [
      "scores: [0.58267717 0.5511811  0.61417323 0.60629921 0.61417323 0.5511811\n",
      " 0.52755906 0.5511811  0.63779528 0.62698413]\n",
      "Accuracy: 0.586 (0.037)\n"
     ]
    }
   ],
   "source": [
    "#8\n",
    "X = bi_pos_new#data\n",
    "y = emot_labels#target\n",
    "\n",
    "kf = KFold(n_splits=10, random_state=1, shuffle=True)\n",
    "\n",
    "# create model\n",
    "model = LogisticRegression()\n",
    "\n",
    "# evaluate model\n",
    "scores = cross_val_score(model, X, y, scoring='accuracy', cv=kf, n_jobs=-1)\n",
    "print(\"scores:\", scores)\n",
    "\n",
    "# report performance\n",
    "print('Accuracy: %.3f (%.3f)' % (mean(scores), std(scores)))"
   ]
  },
  {
   "cell_type": "code",
   "execution_count": 146,
   "metadata": {},
   "outputs": [
    {
     "name": "stdout",
     "output_type": "stream",
     "text": [
      "scores: [0.5511811  0.54330709 0.64566929 0.61417323 0.60629921 0.59055118\n",
      " 0.52755906 0.54330709 0.66929134 0.62698413]\n",
      "Accuracy: 0.592 (0.046)\n"
     ]
    }
   ],
   "source": [
    "#9\n",
    "X = bi_num#data\n",
    "y = emot_labels#target\n",
    "\n",
    "kf = KFold(n_splits=10, random_state=1, shuffle=True)\n",
    "\n",
    "# create model\n",
    "model = LogisticRegression()\n",
    "\n",
    "# evaluate model\n",
    "scores = cross_val_score(model, X, y, scoring='accuracy', cv=kf, n_jobs=-1)\n",
    "print(\"scores:\", scores)\n",
    "\n",
    "# report performance\n",
    "print('Accuracy: %.3f (%.3f)' % (mean(scores), std(scores)))"
   ]
  },
  {
   "cell_type": "code",
   "execution_count": 147,
   "metadata": {},
   "outputs": [
    {
     "name": "stdout",
     "output_type": "stream",
     "text": [
      "scores: [0.55905512 0.5511811  0.66141732 0.63779528 0.62204724 0.5511811\n",
      " 0.58267717 0.58267717 0.63779528 0.69047619]\n",
      "Accuracy: 0.608 (0.047)\n"
     ]
    }
   ],
   "source": [
    "#10\n",
    "X = bi_num_pos#data\n",
    "y = emot_labels#target\n",
    "\n",
    "kf = KFold(n_splits=10, random_state=1, shuffle=True)\n",
    "\n",
    "# create model\n",
    "model = LogisticRegression()\n",
    "\n",
    "# evaluate model\n",
    "scores = cross_val_score(model, X, y, scoring='accuracy', cv=kf, n_jobs=-1)\n",
    "print(\"scores:\", scores)\n",
    "\n",
    "# report performance\n",
    "print('Accuracy: %.3f (%.3f)' % (mean(scores), std(scores)))"
   ]
  },
  {
   "cell_type": "code",
   "execution_count": 148,
   "metadata": {},
   "outputs": [
    {
     "name": "stdout",
     "output_type": "stream",
     "text": [
      "scores: [0.65354331 0.5984252  0.66929134 0.63779528 0.61417323 0.61417323\n",
      " 0.60629921 0.59055118 0.61417323 0.58730159]\n",
      "Accuracy: 0.619 (0.026)\n"
     ]
    }
   ],
   "source": [
    "#11\n",
    "X = tfidf_pos_new#data\n",
    "y = emot_labels#target\n",
    "\n",
    "kf = KFold(n_splits=10, random_state=1, shuffle=True)\n",
    "\n",
    "# create model\n",
    "model = LogisticRegression()\n",
    "\n",
    "# evaluate model\n",
    "scores = cross_val_score(model, X, y, scoring='accuracy', cv=kf, n_jobs=-1)\n",
    "print(\"scores:\", scores)\n",
    "\n",
    "# report performance\n",
    "print('Accuracy: %.3f (%.3f)' % (mean(scores), std(scores)))"
   ]
  },
  {
   "cell_type": "code",
   "execution_count": 149,
   "metadata": {},
   "outputs": [
    {
     "name": "stdout",
     "output_type": "stream",
     "text": [
      "scores: [0.64566929 0.59055118 0.62992126 0.62204724 0.69291339 0.58267717\n",
      " 0.66141732 0.5984252  0.66929134 0.62698413]\n",
      "Accuracy: 0.632 (0.034)\n"
     ]
    }
   ],
   "source": [
    "#12\n",
    "X = tfidf_num#data\n",
    "y = emot_labels#target\n",
    "\n",
    "kf = KFold(n_splits=10, random_state=1, shuffle=True)\n",
    "\n",
    "# create model\n",
    "model = LogisticRegression()\n",
    "\n",
    "# evaluate model\n",
    "scores = cross_val_score(model, X, y, scoring='accuracy', cv=kf, n_jobs=-1)\n",
    "print(\"scores:\", scores)\n",
    "\n",
    "# report performance\n",
    "print('Accuracy: %.3f (%.3f)' % (mean(scores), std(scores)))"
   ]
  },
  {
   "cell_type": "code",
   "execution_count": 150,
   "metadata": {},
   "outputs": [
    {
     "name": "stdout",
     "output_type": "stream",
     "text": [
      "scores: [0.61417323 0.61417323 0.67716535 0.61417323 0.64566929 0.5984252\n",
      " 0.63779528 0.60629921 0.67716535 0.64285714]\n",
      "Accuracy: 0.633 (0.027)\n"
     ]
    }
   ],
   "source": [
    "#13\n",
    "X = tfidf_num_pos#data\n",
    "y = emot_labels#target\n",
    "\n",
    "kf = KFold(n_splits=10, random_state=1, shuffle=True)\n",
    "\n",
    "# create model\n",
    "model = LogisticRegression()\n",
    "\n",
    "# evaluate model\n",
    "scores = cross_val_score(model, X, y, scoring='accuracy', cv=kf, n_jobs=-1)\n",
    "print(\"scores:\", scores)\n",
    "\n",
    "# report performance\n",
    "print('Accuracy: %.3f (%.3f)' % (mean(scores), std(scores)))"
   ]
  },
  {
   "cell_type": "code",
   "execution_count": 151,
   "metadata": {},
   "outputs": [
    {
     "name": "stdout",
     "output_type": "stream",
     "text": [
      "scores: [0.58267717 0.59055118 0.58267717 0.60629921 0.55905512 0.69291339\n",
      " 0.61417323 0.52755906 0.59055118 0.54761905]\n",
      "Accuracy: 0.589 (0.043)\n"
     ]
    }
   ],
   "source": [
    "#14\n",
    "X = wordvec_pos#data\n",
    "y = emot_labels#target\n",
    "\n",
    "kf = KFold(n_splits=10, random_state=1, shuffle=True)\n",
    "\n",
    "# create model\n",
    "model = LogisticRegression()\n",
    "\n",
    "# evaluate model\n",
    "scores = cross_val_score(model, X, y, scoring='accuracy', cv=kf, n_jobs=-1)\n",
    "print(\"scores:\", scores)\n",
    "\n",
    "# report performance\n",
    "print('Accuracy: %.3f (%.3f)' % (mean(scores), std(scores)))"
   ]
  },
  {
   "cell_type": "code",
   "execution_count": 152,
   "metadata": {},
   "outputs": [
    {
     "name": "stdout",
     "output_type": "stream",
     "text": [
      "scores: [0.5984252  0.5511811  0.61417323 0.5984252  0.53543307 0.68503937\n",
      " 0.61417323 0.51968504 0.5984252  0.57936508]\n",
      "Accuracy: 0.589 (0.045)\n"
     ]
    }
   ],
   "source": [
    "#15\n",
    "X = wordvec_num#data\n",
    "y = emot_labels#target\n",
    "\n",
    "kf = KFold(n_splits=10, random_state=1, shuffle=True)\n",
    "\n",
    "# create model\n",
    "model = LogisticRegression()\n",
    "\n",
    "# evaluate model\n",
    "scores = cross_val_score(model, X, y, scoring='accuracy', cv=kf, n_jobs=-1)\n",
    "print(\"scores:\", scores)\n",
    "\n",
    "# report performance\n",
    "print('Accuracy: %.3f (%.3f)' % (mean(scores), std(scores)))"
   ]
  },
  {
   "cell_type": "code",
   "execution_count": 153,
   "metadata": {},
   "outputs": [
    {
     "name": "stdout",
     "output_type": "stream",
     "text": [
      "scores: [0.57480315 0.55905512 0.5984252  0.58267717 0.55905512 0.69291339\n",
      " 0.61417323 0.52755906 0.5984252  0.53968254]\n",
      "Accuracy: 0.585 (0.044)\n"
     ]
    }
   ],
   "source": [
    "#16\n",
    "X = wordvec_num_pos#data\n",
    "y = emot_labels#target\n",
    "\n",
    "kf = KFold(n_splits=10, random_state=1, shuffle=True)\n",
    "\n",
    "# create model\n",
    "model = LogisticRegression()\n",
    "\n",
    "# evaluate model\n",
    "scores = cross_val_score(model, X, y, scoring='accuracy', cv=kf, n_jobs=-1)\n",
    "print(\"scores:\", scores)\n",
    "\n",
    "# report performance\n",
    "print('Accuracy: %.3f (%.3f)' % (mean(scores), std(scores)))"
   ]
  },
  {
   "cell_type": "code",
   "execution_count": 161,
   "metadata": {},
   "outputs": [
    {
     "name": "stdout",
     "output_type": "stream",
     "text": [
      "scores: [0.57480315 0.64566929 0.69291339 0.65354331 0.66141732 0.63779528\n",
      " 0.63779528 0.66141732 0.65354331 0.65873016]\n",
      "Accuracy: 0.648 (0.029)\n"
     ]
    }
   ],
   "source": [
    "#17\n",
    "X = docvec_num#data\n",
    "y = emot_labels#target\n",
    "\n",
    "kf = KFold(n_splits=10, random_state=1, shuffle=True)\n",
    "\n",
    "# create model\n",
    "model = LogisticRegression()\n",
    "\n",
    "# evaluate model\n",
    "scores = cross_val_score(model, X, y, scoring='accuracy', cv=kf, n_jobs=-1)\n",
    "print(\"scores:\", scores)\n",
    "\n",
    "# report performance\n",
    "print('Accuracy: %.3f (%.3f)' % (mean(scores), std(scores)))"
   ]
  },
  {
   "cell_type": "code",
   "execution_count": 155,
   "metadata": {},
   "outputs": [
    {
     "name": "stdout",
     "output_type": "stream",
     "text": [
      "scores: [0.55905512 0.65354331 0.66929134 0.64566929 0.69291339 0.67716535\n",
      " 0.61417323 0.66141732 0.62992126 0.63492063]\n",
      "Accuracy: 0.644 (0.036)\n"
     ]
    }
   ],
   "source": [
    "#18\n",
    "X = docvec_pos#data\n",
    "y = emot_labels#target\n",
    "\n",
    "kf = KFold(n_splits=10, random_state=1, shuffle=True)\n",
    "\n",
    "# create model\n",
    "model = LogisticRegression()\n",
    "\n",
    "# evaluate model\n",
    "scores = cross_val_score(model, X, y, scoring='accuracy', cv=kf, n_jobs=-1)\n",
    "print(\"scores:\", scores)\n",
    "\n",
    "# report performance\n",
    "print('Accuracy: %.3f (%.3f)' % (mean(scores), std(scores)))"
   ]
  },
  {
   "cell_type": "code",
   "execution_count": 156,
   "metadata": {},
   "outputs": [
    {
     "name": "stdout",
     "output_type": "stream",
     "text": [
      "scores: [0.55905512 0.63779528 0.7007874  0.60629921 0.66929134 0.7007874\n",
      " 0.63779528 0.67716535 0.62992126 0.61904762]\n",
      "Accuracy: 0.644 (0.042)\n"
     ]
    }
   ],
   "source": [
    "#19\n",
    "X = docvec_num_pos#data\n",
    "y = emot_labels#target\n",
    "\n",
    "kf = KFold(n_splits=10, random_state=1, shuffle=True)\n",
    "\n",
    "# create model\n",
    "model = LogisticRegression()\n",
    "\n",
    "# evaluate model\n",
    "scores = cross_val_score(model, X, y, scoring='accuracy', cv=kf, n_jobs=-1)\n",
    "print(\"scores:\", scores)\n",
    "\n",
    "# report performance\n",
    "print('Accuracy: %.3f (%.3f)' % (mean(scores), std(scores)))"
   ]
  },
  {
   "cell_type": "code",
   "execution_count": 157,
   "metadata": {},
   "outputs": [
    {
     "name": "stdout",
     "output_type": "stream",
     "text": [
      "scores: [0.62992126 0.53543307 0.68503937 0.5984252  0.58267717 0.56692913\n",
      " 0.5984252  0.54330709 0.62992126 0.57936508]\n",
      "Accuracy: 0.595 (0.042)\n"
     ]
    }
   ],
   "source": [
    "#20\n",
    "X = pos_num#data\n",
    "y = emot_labels#target\n",
    "\n",
    "kf = KFold(n_splits=10, random_state=1, shuffle=True)\n",
    "\n",
    "# create model\n",
    "model = LogisticRegression()\n",
    "\n",
    "# evaluate model\n",
    "scores = cross_val_score(model, X, y, scoring='accuracy', cv=kf, n_jobs=-1)\n",
    "print(\"scores:\", scores)\n",
    "\n",
    "# report performance\n",
    "print('Accuracy: %.3f (%.3f)' % (mean(scores), std(scores)))"
   ]
  },
  {
   "cell_type": "code",
   "execution_count": 158,
   "metadata": {},
   "outputs": [
    {
     "name": "stdout",
     "output_type": "stream",
     "text": [
      "scores: [0.5984252  0.55905512 0.60629921 0.63779528 0.54330709 0.69291339\n",
      " 0.61417323 0.51968504 0.5984252  0.54761905]\n",
      "Accuracy: 0.592 (0.049)\n"
     ]
    }
   ],
   "source": [
    "#21\n",
    "X = all_features#data\n",
    "y = emot_labels#target\n",
    "\n",
    "kf = KFold(n_splits=10, random_state=1, shuffle=True)\n",
    "\n",
    "# create model\n",
    "model = LogisticRegression()\n",
    "\n",
    "# evaluate model\n",
    "scores = cross_val_score(model, X, y, scoring='accuracy', cv=kf, n_jobs=-1)\n",
    "print(\"scores:\", scores)\n",
    "\n",
    "# report performance\n",
    "print('Accuracy: %.3f (%.3f)' % (mean(scores), std(scores)))"
   ]
  },
  {
   "cell_type": "code",
   "execution_count": 159,
   "metadata": {},
   "outputs": [
    {
     "name": "stdout",
     "output_type": "stream",
     "text": [
      "scores: [0.66141732 0.59055118 0.63779528 0.60629921 0.63779528 0.59055118\n",
      " 0.59055118 0.57480315 0.58267717 0.58730159]\n",
      "Accuracy: 0.606 (0.028)\n"
     ]
    }
   ],
   "source": [
    "#22\n",
    "X = hash_uni#data\n",
    "y = emot_labels#target\n",
    "\n",
    "kf = KFold(n_splits=10, random_state=1, shuffle=True)\n",
    "\n",
    "# create model\n",
    "model = LogisticRegression()\n",
    "\n",
    "# evaluate model\n",
    "scores = cross_val_score(model, X, y, scoring='accuracy', cv=kf, n_jobs=-1)\n",
    "print(\"scores:\", scores)\n",
    "\n",
    "# report performance\n",
    "print('Accuracy: %.3f (%.3f)' % (mean(scores), std(scores)))"
   ]
  },
  {
   "cell_type": "code",
   "execution_count": 127,
   "metadata": {},
   "outputs": [
    {
     "name": "stdout",
     "output_type": "stream",
     "text": [
      "scores: [0.56692913 0.5511811  0.58267717 0.58267717 0.57480315 0.49606299\n",
      " 0.51181102 0.63779528 0.56692913 0.64285714]\n",
      "Accuracy: 0.571 (0.044)\n"
     ]
    }
   ],
   "source": [
    "#23\n",
    "X = hash_bi#data\n",
    "y = emot_labels#target\n",
    "\n",
    "kf = KFold(n_splits=10, random_state=1, shuffle=True)\n",
    "\n",
    "# create model\n",
    "model = LogisticRegression()\n",
    "\n",
    "# evaluate model\n",
    "scores = cross_val_score(model, X, y, scoring='accuracy', cv=kf, n_jobs=-1)\n",
    "print(\"scores:\", scores)\n",
    "\n",
    "# report performance\n",
    "print('Accuracy: %.3f (%.3f)' % (mean(scores), std(scores)))"
   ]
  },
  {
   "cell_type": "code",
   "execution_count": 23,
   "metadata": {},
   "outputs": [
    {
     "name": "stdout",
     "output_type": "stream",
     "text": [
      "scores: [0.66929134 0.62992126 0.60629921 0.66141732 0.65354331 0.66141732\n",
      " 0.5984252  0.58267717 0.62992126 0.6031746 ]\n",
      "Accuracy: 0.630 (0.029)\n"
     ]
    }
   ],
   "source": [
    "#23\n",
    "X = hash_tfidf#data\n",
    "y = emot_labels#target\n",
    "\n",
    "kf = KFold(n_splits=10, random_state=1, shuffle=True)\n",
    "\n",
    "# create model\n",
    "model = LogisticRegression()\n",
    "\n",
    "# evaluate model\n",
    "scores = cross_val_score(model, X, y, scoring='accuracy', cv=kf, n_jobs=-1)\n",
    "print(\"scores:\", scores)\n",
    "\n",
    "# report performance\n",
    "print('Accuracy: %.3f (%.3f)' % (mean(scores), std(scores)))"
   ]
  },
  {
   "cell_type": "code",
   "execution_count": 160,
   "metadata": {
    "scrolled": true
   },
   "outputs": [
    {
     "name": "stdout",
     "output_type": "stream",
     "text": [
      "scores: [0.50393701 0.44094488 0.48031496 0.52755906 0.45669291 0.53543307\n",
      " 0.51181102 0.52755906 0.47244094 0.51587302]\n",
      "Accuracy: 0.497 (0.031)\n"
     ]
    }
   ],
   "source": [
    "#24\n",
    "X = hash_#data\n",
    "y = emot_labels#target\n",
    "\n",
    "kf = KFold(n_splits=10, random_state=1, shuffle=True)\n",
    "\n",
    "# create model\n",
    "model = LogisticRegression()\n",
    "\n",
    "# evaluate model\n",
    "scores = cross_val_score(model, X, y, scoring='accuracy', cv=kf, n_jobs=-1)\n",
    "print(\"scores:\", scores)\n",
    "\n",
    "# report performance\n",
    "print('Accuracy: %.3f (%.3f)' % (mean(scores), std(scores)))"
   ]
  },
  {
   "cell_type": "code",
   "execution_count": 20,
   "metadata": {},
   "outputs": [
    {
     "name": "stdout",
     "output_type": "stream",
     "text": [
      "scores: [0.60629921 0.58267717 0.60629921 0.59055118 0.57480315 0.68503937\n",
      " 0.61417323 0.53543307 0.5984252  0.54761905]\n",
      "Accuracy: 0.594 (0.039)\n"
     ]
    }
   ],
   "source": [
    "#24\n",
    "X = hash_wordvec#data\n",
    "y = emot_labels#target\n",
    "\n",
    "kf = KFold(n_splits=10, random_state=1, shuffle=True)\n",
    "\n",
    "# create model\n",
    "model = LogisticRegression()\n",
    "\n",
    "# evaluate model\n",
    "scores = cross_val_score(model, X, y, scoring='accuracy', cv=kf, n_jobs=-1)\n",
    "print(\"scores:\", scores)\n",
    "\n",
    "# report performance\n",
    "print('Accuracy: %.3f (%.3f)' % (mean(scores), std(scores)))"
   ]
  },
  {
   "cell_type": "code",
   "execution_count": 21,
   "metadata": {},
   "outputs": [
    {
     "name": "stdout",
     "output_type": "stream",
     "text": [
      "scores: [0.55905512 0.66141732 0.67716535 0.63779528 0.66929134 0.66929134\n",
      " 0.62992126 0.64566929 0.64566929 0.65079365]\n",
      "Accuracy: 0.645 (0.032)\n"
     ]
    }
   ],
   "source": [
    "#24\n",
    "X = hash_docvec#data\n",
    "y = emot_labels#target\n",
    "\n",
    "kf = KFold(n_splits=10, random_state=1, shuffle=True)\n",
    "\n",
    "# create model\n",
    "model = LogisticRegression()\n",
    "\n",
    "# evaluate model\n",
    "scores = cross_val_score(model, X, y, scoring='accuracy', cv=kf, n_jobs=-1)\n",
    "print(\"scores:\", scores)\n",
    "\n",
    "# report performance\n",
    "print('Accuracy: %.3f (%.3f)' % (mean(scores), std(scores)))"
   ]
  },
  {
   "cell_type": "code",
   "execution_count": 44,
   "metadata": {},
   "outputs": [],
   "source": [
    "##############naive bayes##############"
   ]
  },
  {
   "cell_type": "code",
   "execution_count": 17,
   "metadata": {},
   "outputs": [],
   "source": [
    "from sklearn.naive_bayes import GaussianNB"
   ]
  },
  {
   "cell_type": "code",
   "execution_count": 73,
   "metadata": {},
   "outputs": [
    {
     "name": "stdout",
     "output_type": "stream",
     "text": [
      "scores: [0.51181102 0.56692913 0.58267717 0.51968504 0.61417323 0.55905512\n",
      " 0.52755906 0.50393701 0.51181102 0.52380952]\n",
      "Accuracy: 0.542 (0.035)\n"
     ]
    }
   ],
   "source": [
    "\n",
    "X = unigram_feature_vector#data\n",
    "y = emot_labels#target\n",
    "\n",
    "kf = KFold(n_splits=10, random_state=1, shuffle=True)\n",
    "\n",
    "# create model\n",
    "model = GaussianNB()\n",
    "\n",
    "# evaluate model\n",
    "scores = cross_val_score(model, X, y, scoring='accuracy', cv=kf, n_jobs=-1)\n",
    "print(\"scores:\", scores)\n",
    "\n",
    "# report performance\n",
    "print('Accuracy: %.3f (%.3f)' % (mean(scores), std(scores)))"
   ]
  },
  {
   "cell_type": "code",
   "execution_count": 74,
   "metadata": {},
   "outputs": [
    {
     "name": "stdout",
     "output_type": "stream",
     "text": [
      "scores: [0.50393701 0.54330709 0.55905512 0.58267717 0.64566929 0.48031496\n",
      " 0.52755906 0.56692913 0.5984252  0.57936508]\n",
      "Accuracy: 0.559 (0.045)\n"
     ]
    }
   ],
   "source": [
    "\n",
    "X = bigram_feature_vector#data\n",
    "y = emot_labels#target\n",
    "\n",
    "kf = KFold(n_splits=10, random_state=1, shuffle=True)\n",
    "\n",
    "# create model\n",
    "model = GaussianNB()\n",
    "\n",
    "# evaluate model\n",
    "scores = cross_val_score(model, X, y, scoring='accuracy', cv=kf, n_jobs=-1)\n",
    "print(\"scores:\", scores)\n",
    "\n",
    "# report performance\n",
    "print('Accuracy: %.3f (%.3f)' % (mean(scores), std(scores)))"
   ]
  },
  {
   "cell_type": "code",
   "execution_count": 75,
   "metadata": {},
   "outputs": [
    {
     "name": "stdout",
     "output_type": "stream",
     "text": [
      "scores: [0.55905512 0.51181102 0.60629921 0.51968504 0.5984252  0.49606299\n",
      " 0.52755906 0.53543307 0.54330709 0.53174603]\n",
      "Accuracy: 0.543 (0.034)\n"
     ]
    }
   ],
   "source": [
    "\n",
    "X = trigram_feature_vector#data\n",
    "y = emot_labels#target\n",
    "\n",
    "kf = KFold(n_splits=10, random_state=1, shuffle=True)\n",
    "\n",
    "# create model\n",
    "model = GaussianNB()\n",
    "\n",
    "# evaluate model\n",
    "scores = cross_val_score(model, X, y, scoring='accuracy', cv=kf, n_jobs=-1)\n",
    "print(\"scores:\", scores)\n",
    "\n",
    "# report performance\n",
    "print('Accuracy: %.3f (%.3f)' % (mean(scores), std(scores)))"
   ]
  },
  {
   "cell_type": "code",
   "execution_count": 76,
   "metadata": {},
   "outputs": [
    {
     "name": "stdout",
     "output_type": "stream",
     "text": [
      "scores: [0.49606299 0.60629921 0.55905512 0.51181102 0.61417323 0.5984252\n",
      " 0.51181102 0.52755906 0.52755906 0.51587302]\n",
      "Accuracy: 0.547 (0.042)\n"
     ]
    }
   ],
   "source": [
    "\n",
    "X = tfidf#data\n",
    "y = emot_labels#target\n",
    "\n",
    "kf = KFold(n_splits=10, random_state=1, shuffle=True)\n",
    "\n",
    "# create model\n",
    "model = GaussianNB()\n",
    "\n",
    "# evaluate model\n",
    "scores = cross_val_score(model, X, y, scoring='accuracy', cv=kf, n_jobs=-1)\n",
    "print(\"scores:\", scores)\n",
    "\n",
    "# report performance\n",
    "print('Accuracy: %.3f (%.3f)' % (mean(scores), std(scores)))"
   ]
  },
  {
   "cell_type": "code",
   "execution_count": 77,
   "metadata": {},
   "outputs": [
    {
     "name": "stdout",
     "output_type": "stream",
     "text": [
      "scores: [0.5984252  0.51181102 0.62204724 0.54330709 0.63779528 0.51968504\n",
      " 0.49606299 0.50393701 0.59055118 0.56349206]\n",
      "Accuracy: 0.559 (0.049)\n"
     ]
    }
   ],
   "source": [
    "X = post_sent_punct#data\n",
    "y = emot_labels#target\n",
    "\n",
    "kf = KFold(n_splits=10, random_state=1, shuffle=True)\n",
    "\n",
    "# create model\n",
    "model = GaussianNB()\n",
    "\n",
    "# evaluate model\n",
    "scores = cross_val_score(model, X, y, scoring='accuracy', cv=kf, n_jobs=-1)\n",
    "print(\"scores:\", scores)\n",
    "\n",
    "# report performance\n",
    "print('Accuracy: %.3f (%.3f)' % (mean(scores), std(scores)))"
   ]
  },
  {
   "cell_type": "code",
   "execution_count": 162,
   "metadata": {},
   "outputs": [
    {
     "name": "stdout",
     "output_type": "stream",
     "text": [
      "scores: [0.59055118 0.46456693 0.58267717 0.51181102 0.64566929 0.46456693\n",
      " 0.51968504 0.51181102 0.5511811  0.51587302]\n",
      "Accuracy: 0.536 (0.054)\n"
     ]
    }
   ],
   "source": [
    "X = pos#data\n",
    "y = emot_labels#target\n",
    "\n",
    "kf = KFold(n_splits=10, random_state=1, shuffle=True)\n",
    "\n",
    "# create model\n",
    "model = GaussianNB()\n",
    "\n",
    "# evaluate model\n",
    "scores = cross_val_score(model, X, y, scoring='accuracy', cv=kf, n_jobs=-1)\n",
    "print(\"scores:\", scores)\n",
    "\n",
    "# report performance\n",
    "print('Accuracy: %.3f (%.3f)' % (mean(scores), std(scores)))"
   ]
  },
  {
   "cell_type": "code",
   "execution_count": 78,
   "metadata": {},
   "outputs": [
    {
     "name": "stdout",
     "output_type": "stream",
     "text": [
      "scores: [0.48818898 0.42519685 0.50393701 0.50393701 0.61417323 0.47244094\n",
      " 0.48031496 0.49606299 0.52755906 0.55555556]\n",
      "Accuracy: 0.507 (0.048)\n"
     ]
    }
   ],
   "source": [
    "X = nodoc#data\n",
    "y = emot_labels#target\n",
    "\n",
    "kf = KFold(n_splits=10, random_state=1, shuffle=True)\n",
    "\n",
    "# create model\n",
    "model = GaussianNB()\n",
    "\n",
    "# evaluate model\n",
    "scores = cross_val_score(model, X, y, scoring='accuracy', cv=kf, n_jobs=-1)\n",
    "print(\"scores:\", scores)\n",
    "\n",
    "# report performance\n",
    "print('Accuracy: %.3f (%.3f)' % (mean(scores), std(scores)))"
   ]
  },
  {
   "cell_type": "code",
   "execution_count": 79,
   "metadata": {},
   "outputs": [
    {
     "name": "stdout",
     "output_type": "stream",
     "text": [
      "scores: [0.62204724 0.59055118 0.68503937 0.66141732 0.70866142 0.62992126\n",
      " 0.5984252  0.57480315 0.66141732 0.57936508]\n",
      "Accuracy: 0.631 (0.044)\n"
     ]
    }
   ],
   "source": [
    "\n",
    "X = word_vector_feature#data\n",
    "y = emot_labels#target\n",
    "\n",
    "kf = KFold(n_splits=10, random_state=1, shuffle=True)\n",
    "\n",
    "# create model\n",
    "model = GaussianNB()\n",
    "\n",
    "# evaluate model\n",
    "scores = cross_val_score(model, X, y, scoring='accuracy', cv=kf, n_jobs=-1)\n",
    "print(\"scores:\", scores)\n",
    "\n",
    "# report performance\n",
    "print('Accuracy: %.3f (%.3f)' % (mean(scores), std(scores)))"
   ]
  },
  {
   "cell_type": "code",
   "execution_count": null,
   "metadata": {},
   "outputs": [],
   "source": [
    "##combinations##"
   ]
  },
  {
   "cell_type": "code",
   "execution_count": 80,
   "metadata": {},
   "outputs": [
    {
     "name": "stdout",
     "output_type": "stream",
     "text": [
      "scores: [0.51968504 0.55905512 0.56692913 0.51181102 0.61417323 0.51181102\n",
      " 0.52755906 0.5511811  0.54330709 0.57142857]\n",
      "Accuracy: 0.548 (0.030)\n"
     ]
    }
   ],
   "source": [
    "#2\n",
    "X = unigram_bi_feature_vector#data\n",
    "y = emot_labels#target\n",
    "\n",
    "kf = KFold(n_splits=10, random_state=1, shuffle=True)\n",
    "\n",
    "model = GaussianNB()\n",
    "\n",
    "# evaluate model\n",
    "scores = cross_val_score(model, X, y, scoring='accuracy', cv=kf, n_jobs=-1)\n",
    "print(\"scores:\", scores)\n",
    "\n",
    "# report performance\n",
    "print('Accuracy: %.3f (%.3f)' % (mean(scores), std(scores)))"
   ]
  },
  {
   "cell_type": "code",
   "execution_count": 81,
   "metadata": {},
   "outputs": [
    {
     "name": "stdout",
     "output_type": "stream",
     "text": [
      "scores: [0.52755906 0.58267717 0.59055118 0.52755906 0.59055118 0.50393701\n",
      " 0.5511811  0.56692913 0.54330709 0.57142857]\n",
      "Accuracy: 0.556 (0.028)\n"
     ]
    }
   ],
   "source": [
    "#3\n",
    "X = uni_bi_tri_feat_vec#data\n",
    "y = emot_labels#target\n",
    "\n",
    "kf = KFold(n_splits=10, random_state=1, shuffle=True)\n",
    "\n",
    "# create model\n",
    "model = GaussianNB()\n",
    "\n",
    "# evaluate model\n",
    "scores = cross_val_score(model, X, y, scoring='accuracy', cv=kf, n_jobs=-1)\n",
    "print(\"scores:\", scores)\n",
    "\n",
    "# report performance\n",
    "print('Accuracy: %.3f (%.3f)' % (mean(scores), std(scores)))"
   ]
  },
  {
   "cell_type": "code",
   "execution_count": 92,
   "metadata": {},
   "outputs": [
    {
     "name": "stdout",
     "output_type": "stream",
     "text": [
      "scores: [0.51181102 0.57480315 0.5511811  0.56692913 0.58267717 0.51968504\n",
      " 0.51968504 0.5511811  0.54330709 0.53968254]\n",
      "Accuracy: 0.546 (0.023)\n"
     ]
    }
   ],
   "source": [
    "#4\n",
    "X = tfidf_bigram#data\n",
    "y = emot_labels#target\n",
    "\n",
    "kf = KFold(n_splits=10, random_state=1, shuffle=True)\n",
    "\n",
    "# create model\n",
    "model = GaussianNB()\n",
    "\n",
    "# evaluate model\n",
    "scores = cross_val_score(model, X, y, scoring='accuracy', cv=kf, n_jobs=-1)\n",
    "print(\"scores:\", scores)\n",
    "\n",
    "# report performance\n",
    "print('Accuracy: %.3f (%.3f)' % (mean(scores), std(scores)))"
   ]
  },
  {
   "cell_type": "code",
   "execution_count": 82,
   "metadata": {},
   "outputs": [
    {
     "name": "stdout",
     "output_type": "stream",
     "text": [
      "scores: [0.50393701 0.56692913 0.59055118 0.51968504 0.61417323 0.55905512\n",
      " 0.52755906 0.50393701 0.51181102 0.52380952]\n",
      "Accuracy: 0.542 (0.037)\n"
     ]
    }
   ],
   "source": [
    "#5\n",
    "X = uni_pos_new#data\n",
    "y = emot_labels#target\n",
    "\n",
    "kf = KFold(n_splits=10, random_state=1, shuffle=True)\n",
    "\n",
    "# create model\n",
    "model = GaussianNB()\n",
    "\n",
    "# evaluate model\n",
    "scores = cross_val_score(model, X, y, scoring='accuracy', cv=kf, n_jobs=-1)\n",
    "print(\"scores:\", scores)\n",
    "\n",
    "# report performance\n",
    "print('Accuracy: %.3f (%.3f)' % (mean(scores), std(scores)))"
   ]
  },
  {
   "cell_type": "code",
   "execution_count": 91,
   "metadata": {},
   "outputs": [
    {
     "name": "stdout",
     "output_type": "stream",
     "text": [
      "scores: [0.51181102 0.57480315 0.59055118 0.51968504 0.61417323 0.56692913\n",
      " 0.52755906 0.50393701 0.51968504 0.51587302]\n",
      "Accuracy: 0.545 (0.037)\n"
     ]
    }
   ],
   "source": [
    "#6\n",
    "X = uni_num#data\n",
    "y = emot_labels#target\n",
    "\n",
    "kf = KFold(n_splits=10, random_state=1, shuffle=True)\n",
    "\n",
    "# create model\n",
    "model = GaussianNB()\n",
    "\n",
    "# evaluate model\n",
    "scores = cross_val_score(model, X, y, scoring='accuracy', cv=kf, n_jobs=-1)\n",
    "print(\"scores:\", scores)\n",
    "\n",
    "# report performance\n",
    "print('Accuracy: %.3f (%.3f)' % (mean(scores), std(scores)))"
   ]
  },
  {
   "cell_type": "code",
   "execution_count": 83,
   "metadata": {},
   "outputs": [
    {
     "name": "stdout",
     "output_type": "stream",
     "text": [
      "scores: [0.51181102 0.57480315 0.59055118 0.51968504 0.61417323 0.56692913\n",
      " 0.51968504 0.50393701 0.51968504 0.51587302]\n",
      "Accuracy: 0.544 (0.037)\n"
     ]
    }
   ],
   "source": [
    "#7\n",
    "X = uni_num_pos#data\n",
    "y = emot_labels#target\n",
    "\n",
    "kf = KFold(n_splits=10, random_state=1, shuffle=True)\n",
    "\n",
    "# create model\n",
    "model = GaussianNB()\n",
    "\n",
    "# evaluate model\n",
    "scores = cross_val_score(model, X, y, scoring='accuracy', cv=kf, n_jobs=-1)\n",
    "print(\"scores:\", scores)\n",
    "\n",
    "# report performance\n",
    "print('Accuracy: %.3f (%.3f)' % (mean(scores), std(scores)))"
   ]
  },
  {
   "cell_type": "code",
   "execution_count": 90,
   "metadata": {},
   "outputs": [
    {
     "name": "stdout",
     "output_type": "stream",
     "text": [
      "scores: [0.50393701 0.54330709 0.55905512 0.58267717 0.64566929 0.48031496\n",
      " 0.52755906 0.56692913 0.5984252  0.57936508]\n",
      "Accuracy: 0.559 (0.045)\n"
     ]
    }
   ],
   "source": [
    "#8\n",
    "X = bi_pos_new#data\n",
    "y = emot_labels#target\n",
    "\n",
    "kf = KFold(n_splits=10, random_state=1, shuffle=True)\n",
    "\n",
    "# create model\n",
    "model = GaussianNB()\n",
    "\n",
    "# evaluate model\n",
    "scores = cross_val_score(model, X, y, scoring='accuracy', cv=kf, n_jobs=-1)\n",
    "print(\"scores:\", scores)\n",
    "\n",
    "# report performance\n",
    "print('Accuracy: %.3f (%.3f)' % (mean(scores), std(scores)))"
   ]
  },
  {
   "cell_type": "code",
   "execution_count": 84,
   "metadata": {},
   "outputs": [
    {
     "name": "stdout",
     "output_type": "stream",
     "text": [
      "scores: [0.50393701 0.54330709 0.55905512 0.58267717 0.64566929 0.48031496\n",
      " 0.52755906 0.56692913 0.5984252  0.57936508]\n",
      "Accuracy: 0.559 (0.045)\n"
     ]
    }
   ],
   "source": [
    "#9\n",
    "X = bi_num#data\n",
    "y = emot_labels#target\n",
    "\n",
    "kf = KFold(n_splits=10, random_state=1, shuffle=True)\n",
    "\n",
    "# create model\n",
    "model = GaussianNB()\n",
    "\n",
    "# evaluate model\n",
    "scores = cross_val_score(model, X, y, scoring='accuracy', cv=kf, n_jobs=-1)\n",
    "print(\"scores:\", scores)\n",
    "\n",
    "# report performance\n",
    "print('Accuracy: %.3f (%.3f)' % (mean(scores), std(scores)))"
   ]
  },
  {
   "cell_type": "code",
   "execution_count": 89,
   "metadata": {},
   "outputs": [
    {
     "name": "stdout",
     "output_type": "stream",
     "text": [
      "scores: [0.50393701 0.54330709 0.55905512 0.58267717 0.64566929 0.48031496\n",
      " 0.52755906 0.56692913 0.5984252  0.57936508]\n",
      "Accuracy: 0.559 (0.045)\n"
     ]
    }
   ],
   "source": [
    "#10\n",
    "X = bi_num_pos#data\n",
    "y = emot_labels#target\n",
    "\n",
    "kf = KFold(n_splits=10, random_state=1, shuffle=True)\n",
    "\n",
    "# create model\n",
    "model = GaussianNB()\n",
    "\n",
    "# evaluate model\n",
    "scores = cross_val_score(model, X, y, scoring='accuracy', cv=kf, n_jobs=-1)\n",
    "print(\"scores:\", scores)\n",
    "\n",
    "# report performance\n",
    "print('Accuracy: %.3f (%.3f)' % (mean(scores), std(scores)))"
   ]
  },
  {
   "cell_type": "code",
   "execution_count": 85,
   "metadata": {},
   "outputs": [
    {
     "name": "stdout",
     "output_type": "stream",
     "text": [
      "scores: [0.49606299 0.58267717 0.55905512 0.50393701 0.62204724 0.58267717\n",
      " 0.51968504 0.54330709 0.53543307 0.54761905]\n",
      "Accuracy: 0.549 (0.037)\n"
     ]
    }
   ],
   "source": [
    "#11\n",
    "X = tfidf_pos_new#data\n",
    "y = emot_labels#target\n",
    "\n",
    "kf = KFold(n_splits=10, random_state=1, shuffle=True)\n",
    "\n",
    "# create model\n",
    "model = GaussianNB()\n",
    "\n",
    "# evaluate model\n",
    "scores = cross_val_score(model, X, y, scoring='accuracy', cv=kf, n_jobs=-1)\n",
    "print(\"scores:\", scores)\n",
    "\n",
    "# report performance\n",
    "print('Accuracy: %.3f (%.3f)' % (mean(scores), std(scores)))"
   ]
  },
  {
   "cell_type": "code",
   "execution_count": 88,
   "metadata": {},
   "outputs": [
    {
     "name": "stdout",
     "output_type": "stream",
     "text": [
      "scores: [0.50393701 0.58267717 0.55905512 0.49606299 0.61417323 0.5984252\n",
      " 0.48031496 0.53543307 0.53543307 0.53968254]\n",
      "Accuracy: 0.545 (0.042)\n"
     ]
    }
   ],
   "source": [
    "#12\n",
    "X = tfidf_num#data\n",
    "y = emot_labels#target\n",
    "\n",
    "kf = KFold(n_splits=10, random_state=1, shuffle=True)\n",
    "\n",
    "# create model\n",
    "model = GaussianNB()\n",
    "\n",
    "# evaluate model\n",
    "scores = cross_val_score(model, X, y, scoring='accuracy', cv=kf, n_jobs=-1)\n",
    "print(\"scores:\", scores)\n",
    "\n",
    "# report performance\n",
    "print('Accuracy: %.3f (%.3f)' % (mean(scores), std(scores)))"
   ]
  },
  {
   "cell_type": "code",
   "execution_count": 86,
   "metadata": {},
   "outputs": [
    {
     "name": "stdout",
     "output_type": "stream",
     "text": [
      "scores: [0.50393701 0.58267717 0.55905512 0.49606299 0.61417323 0.5984252\n",
      " 0.48031496 0.53543307 0.53543307 0.53968254]\n",
      "Accuracy: 0.545 (0.042)\n"
     ]
    }
   ],
   "source": [
    "#13\n",
    "X = tfidf_num_pos#data\n",
    "y = emot_labels#target\n",
    "\n",
    "kf = KFold(n_splits=10, random_state=1, shuffle=True)\n",
    "\n",
    "# create model\n",
    "model = GaussianNB()\n",
    "\n",
    "# evaluate model\n",
    "scores = cross_val_score(model, X, y, scoring='accuracy', cv=kf, n_jobs=-1)\n",
    "print(\"scores:\", scores)\n",
    "\n",
    "# report performance\n",
    "print('Accuracy: %.3f (%.3f)' % (mean(scores), std(scores)))"
   ]
  },
  {
   "cell_type": "code",
   "execution_count": 87,
   "metadata": {},
   "outputs": [
    {
     "name": "stdout",
     "output_type": "stream",
     "text": [
      "scores: [0.48818898 0.42519685 0.50393701 0.50393701 0.61417323 0.47244094\n",
      " 0.48031496 0.49606299 0.52755906 0.55555556]\n",
      "Accuracy: 0.507 (0.048)\n"
     ]
    }
   ],
   "source": [
    "#14\n",
    "X = wordvec_pos#data\n",
    "y = emot_labels#target\n",
    "\n",
    "kf = KFold(n_splits=10, random_state=1, shuffle=True)\n",
    "\n",
    "# create model\n",
    "model = GaussianNB()\n",
    "\n",
    "# evaluate model\n",
    "scores = cross_val_score(model, X, y, scoring='accuracy', cv=kf, n_jobs=-1)\n",
    "print(\"scores:\", scores)\n",
    "\n",
    "# report performance\n",
    "print('Accuracy: %.3f (%.3f)' % (mean(scores), std(scores)))"
   ]
  },
  {
   "cell_type": "code",
   "execution_count": 93,
   "metadata": {},
   "outputs": [
    {
     "name": "stdout",
     "output_type": "stream",
     "text": [
      "scores: [0.48818898 0.43307087 0.50393701 0.51181102 0.61417323 0.47244094\n",
      " 0.48818898 0.48031496 0.52755906 0.56349206]\n",
      "Accuracy: 0.508 (0.048)\n"
     ]
    }
   ],
   "source": [
    "#15\n",
    "X = wordvec_num#data\n",
    "y = emot_labels#target\n",
    "\n",
    "kf = KFold(n_splits=10, random_state=1, shuffle=True)\n",
    "\n",
    "# create model\n",
    "model = GaussianNB()\n",
    "\n",
    "# evaluate model\n",
    "scores = cross_val_score(model, X, y, scoring='accuracy', cv=kf, n_jobs=-1)\n",
    "print(\"scores:\", scores)\n",
    "\n",
    "# report performance\n",
    "print('Accuracy: %.3f (%.3f)' % (mean(scores), std(scores)))"
   ]
  },
  {
   "cell_type": "code",
   "execution_count": 94,
   "metadata": {},
   "outputs": [
    {
     "name": "stdout",
     "output_type": "stream",
     "text": [
      "scores: [0.48818898 0.43307087 0.50393701 0.51181102 0.61417323 0.47244094\n",
      " 0.48818898 0.48031496 0.52755906 0.56349206]\n",
      "Accuracy: 0.508 (0.048)\n"
     ]
    }
   ],
   "source": [
    "#16\n",
    "X = wordvec_num_pos#data\n",
    "y = emot_labels#target\n",
    "\n",
    "kf = KFold(n_splits=10, random_state=1, shuffle=True)\n",
    "\n",
    "# create model\n",
    "model = GaussianNB()\n",
    "# evaluate model\n",
    "scores = cross_val_score(model, X, y, scoring='accuracy', cv=kf, n_jobs=-1)\n",
    "print(\"scores:\", scores)\n",
    "\n",
    "# report performance\n",
    "print('Accuracy: %.3f (%.3f)' % (mean(scores), std(scores)))"
   ]
  },
  {
   "cell_type": "code",
   "execution_count": 95,
   "metadata": {},
   "outputs": [
    {
     "name": "stdout",
     "output_type": "stream",
     "text": [
      "scores: [0.61417323 0.58267717 0.68503937 0.66141732 0.7007874  0.62992126\n",
      " 0.5984252  0.56692913 0.65354331 0.57936508]\n",
      "Accuracy: 0.627 (0.044)\n"
     ]
    }
   ],
   "source": [
    "#17\n",
    "X = docvec_pos#data\n",
    "y = emot_labels#target\n",
    "\n",
    "kf = KFold(n_splits=10, random_state=1, shuffle=True)\n",
    "\n",
    "# create model\n",
    "model = GaussianNB()\n",
    "\n",
    "# evaluate model\n",
    "scores = cross_val_score(model, X, y, scoring='accuracy', cv=kf, n_jobs=-1)\n",
    "print(\"scores:\", scores)\n",
    "\n",
    "# report performance\n",
    "print('Accuracy: %.3f (%.3f)' % (mean(scores), std(scores)))"
   ]
  },
  {
   "cell_type": "code",
   "execution_count": 19,
   "metadata": {},
   "outputs": [
    {
     "name": "stdout",
     "output_type": "stream",
     "text": [
      "scores: [0.62204724 0.59055118 0.67716535 0.66141732 0.7007874  0.62992126\n",
      " 0.5984252  0.57480315 0.66141732 0.57936508]\n",
      "Accuracy: 0.630 (0.042)\n"
     ]
    }
   ],
   "source": [
    "#18\n",
    "X = docvec_num#data\n",
    "y = emot_labels#target\n",
    "\n",
    "kf = KFold(n_splits=10, random_state=1, shuffle=True)\n",
    "\n",
    "# create model\n",
    "model = GaussianNB()\n",
    "\n",
    "# evaluate model\n",
    "scores = cross_val_score(model, X, y, scoring='accuracy', cv=kf, n_jobs=-1)\n",
    "print(\"scores:\", scores)\n",
    "\n",
    "# report performance\n",
    "print('Accuracy: %.3f (%.3f)' % (mean(scores), std(scores)))"
   ]
  },
  {
   "cell_type": "code",
   "execution_count": 164,
   "metadata": {},
   "outputs": [
    {
     "name": "stdout",
     "output_type": "stream",
     "text": [
      "scores: [0.62204724 0.58267717 0.66929134 0.65354331 0.70866142 0.63779528\n",
      " 0.5984252  0.57480315 0.66141732 0.58730159]\n",
      "Accuracy: 0.630 (0.042)\n"
     ]
    }
   ],
   "source": [
    "#19\n",
    "X = docvec_num_pos#data\n",
    "y = emot_labels#target\n",
    "\n",
    "kf = KFold(n_splits=10, random_state=1, shuffle=True)\n",
    "\n",
    "# create model\n",
    "model = GaussianNB()\n",
    "\n",
    "# evaluate model\n",
    "scores = cross_val_score(model, X, y, scoring='accuracy', cv=kf, n_jobs=-1)\n",
    "print(\"scores:\", scores)\n",
    "\n",
    "# report performance\n",
    "print('Accuracy: %.3f (%.3f)' % (mean(scores), std(scores)))"
   ]
  },
  {
   "cell_type": "code",
   "execution_count": 99,
   "metadata": {},
   "outputs": [
    {
     "name": "stdout",
     "output_type": "stream",
     "text": [
      "scores: [0.60629921 0.50393701 0.5984252  0.52755906 0.65354331 0.48818898\n",
      " 0.49606299 0.52755906 0.5984252  0.5       ]\n",
      "Accuracy: 0.550 (0.056)\n"
     ]
    }
   ],
   "source": [
    "#20\n",
    "X = pos_num#data\n",
    "y = emot_labels#target\n",
    "\n",
    "kf = KFold(n_splits=10, random_state=1, shuffle=True)\n",
    "\n",
    "# create model\n",
    "model = GaussianNB()\n",
    "\n",
    "# evaluate model\n",
    "scores = cross_val_score(model, X, y, scoring='accuracy', cv=kf, n_jobs=-1)\n",
    "print(\"scores:\", scores)\n",
    "\n",
    "# report performance\n",
    "print('Accuracy: %.3f (%.3f)' % (mean(scores), std(scores)))"
   ]
  },
  {
   "cell_type": "code",
   "execution_count": 100,
   "metadata": {},
   "outputs": [
    {
     "name": "stdout",
     "output_type": "stream",
     "text": [
      "scores: [0.51968504 0.60629921 0.57480315 0.5511811  0.5984252  0.51968504\n",
      " 0.53543307 0.5511811  0.55905512 0.57936508]\n",
      "Accuracy: 0.560 (0.029)\n"
     ]
    }
   ],
   "source": [
    "#21\n",
    "X = all_features#data\n",
    "y = emot_labels#target\n",
    "\n",
    "kf = KFold(n_splits=10, random_state=1, shuffle=True)\n",
    "\n",
    "# create model\n",
    "model = GaussianNB()\n",
    "\n",
    "# evaluate model\n",
    "scores = cross_val_score(model, X, y, scoring='accuracy', cv=kf, n_jobs=-1)\n",
    "print(\"scores:\", scores)\n",
    "\n",
    "# report performance\n",
    "print('Accuracy: %.3f (%.3f)' % (mean(scores), std(scores)))"
   ]
  },
  {
   "cell_type": "code",
   "execution_count": 165,
   "metadata": {},
   "outputs": [
    {
     "name": "stdout",
     "output_type": "stream",
     "text": [
      "scores: [0.51181102 0.56692913 0.58267717 0.51968504 0.61417323 0.55905512\n",
      " 0.52755906 0.50393701 0.51181102 0.52380952]\n",
      "Accuracy: 0.542 (0.035)\n"
     ]
    }
   ],
   "source": [
    "#22\n",
    "X = hash_uni#data\n",
    "y = emot_labels#target\n",
    "\n",
    "kf = KFold(n_splits=10, random_state=1, shuffle=True)\n",
    "\n",
    "# create model\n",
    "model = GaussianNB()\n",
    "\n",
    "# evaluate model\n",
    "scores = cross_val_score(model, X, y, scoring='accuracy', cv=kf, n_jobs=-1)\n",
    "print(\"scores:\", scores)\n",
    "\n",
    "# report performance\n",
    "print('Accuracy: %.3f (%.3f)' % (mean(scores), std(scores)))"
   ]
  },
  {
   "cell_type": "code",
   "execution_count": 166,
   "metadata": {},
   "outputs": [
    {
     "name": "stdout",
     "output_type": "stream",
     "text": [
      "scores: [0.50393701 0.54330709 0.55905512 0.58267717 0.64566929 0.48031496\n",
      " 0.52755906 0.56692913 0.5984252  0.57936508]\n",
      "Accuracy: 0.559 (0.045)\n"
     ]
    }
   ],
   "source": [
    "#23\n",
    "X = hash_bi#data\n",
    "y = emot_labels#target\n",
    "\n",
    "kf = KFold(n_splits=10, random_state=1, shuffle=True)\n",
    "\n",
    "# create model\n",
    "model = GaussianNB()\n",
    "\n",
    "# evaluate model\n",
    "scores = cross_val_score(model, X, y, scoring='accuracy', cv=kf, n_jobs=-1)\n",
    "print(\"scores:\", scores)\n",
    "\n",
    "# report performance\n",
    "print('Accuracy: %.3f (%.3f)' % (mean(scores), std(scores)))"
   ]
  },
  {
   "cell_type": "code",
   "execution_count": 167,
   "metadata": {},
   "outputs": [
    {
     "name": "stdout",
     "output_type": "stream",
     "text": [
      "scores: [0.48031496 0.60629921 0.55905512 0.50393701 0.61417323 0.5984252\n",
      " 0.51968504 0.51968504 0.52755906 0.51587302]\n",
      "Accuracy: 0.545 (0.045)\n"
     ]
    }
   ],
   "source": [
    "#24\n",
    "X = hash_tfidf#data\n",
    "y = emot_labels#target\n",
    "\n",
    "kf = KFold(n_splits=10, random_state=1, shuffle=True)\n",
    "\n",
    "# create model\n",
    "model = GaussianNB()\n",
    "\n",
    "# evaluate model\n",
    "scores = cross_val_score(model, X, y, scoring='accuracy', cv=kf, n_jobs=-1)\n",
    "print(\"scores:\", scores)\n",
    "\n",
    "# report performance\n",
    "print('Accuracy: %.3f (%.3f)' % (mean(scores), std(scores)))"
   ]
  },
  {
   "cell_type": "code",
   "execution_count": 168,
   "metadata": {},
   "outputs": [
    {
     "name": "stdout",
     "output_type": "stream",
     "text": [
      "scores: [0.48818898 0.42519685 0.50393701 0.50393701 0.61417323 0.47244094\n",
      " 0.48031496 0.49606299 0.52755906 0.55555556]\n",
      "Accuracy: 0.507 (0.048)\n"
     ]
    }
   ],
   "source": [
    "#25\n",
    "X = hash_wordvec#data\n",
    "y = emot_labels#target\n",
    "\n",
    "kf = KFold(n_splits=10, random_state=1, shuffle=True)\n",
    "\n",
    "# create model\n",
    "model = GaussianNB()\n",
    "\n",
    "# evaluate model\n",
    "scores = cross_val_score(model, X, y, scoring='accuracy', cv=kf, n_jobs=-1)\n",
    "print(\"scores:\", scores)\n",
    "\n",
    "# report performance\n",
    "print('Accuracy: %.3f (%.3f)' % (mean(scores), std(scores)))"
   ]
  },
  {
   "cell_type": "code",
   "execution_count": 169,
   "metadata": {},
   "outputs": [
    {
     "name": "stdout",
     "output_type": "stream",
     "text": [
      "scores: [0.62992126 0.60629921 0.66141732 0.66929134 0.7007874  0.63779528\n",
      " 0.60629921 0.59055118 0.64566929 0.58730159]\n",
      "Accuracy: 0.634 (0.035)\n"
     ]
    }
   ],
   "source": [
    "#26\n",
    "X = hash_docvec#data\n",
    "y = emot_labels#target\n",
    "\n",
    "kf = KFold(n_splits=10, random_state=1, shuffle=True)\n",
    "\n",
    "# create model\n",
    "model = GaussianNB()\n",
    "\n",
    "# evaluate model\n",
    "scores = cross_val_score(model, X, y, scoring='accuracy', cv=kf, n_jobs=-1)\n",
    "print(\"scores:\", scores)\n",
    "\n",
    "# report performance\n",
    "print('Accuracy: %.3f (%.3f)' % (mean(scores), std(scores)))"
   ]
  },
  {
   "cell_type": "code",
   "execution_count": 22,
   "metadata": {},
   "outputs": [
    {
     "name": "stdout",
     "output_type": "stream",
     "text": [
      "scores: [0.50393701 0.5511811  0.48031496 0.52755906 0.45669291 0.53543307\n",
      " 0.51181102 0.52755906 0.47244094 0.51587302]\n",
      "Accuracy: 0.508 (0.029)\n"
     ]
    }
   ],
   "source": [
    "#26\n",
    "X = hash_#data\n",
    "y = emot_labels#target\n",
    "\n",
    "kf = KFold(n_splits=10, random_state=1, shuffle=True)\n",
    "\n",
    "# create model\n",
    "model = GaussianNB()\n",
    "\n",
    "# evaluate model\n",
    "scores = cross_val_score(model, X, y, scoring='accuracy', cv=kf, n_jobs=-1)\n",
    "print(\"scores:\", scores)\n",
    "\n",
    "# report performance\n",
    "print('Accuracy: %.3f (%.3f)' % (mean(scores), std(scores)))"
   ]
  },
  {
   "cell_type": "code",
   "execution_count": null,
   "metadata": {},
   "outputs": [],
   "source": []
  }
 ],
 "metadata": {
  "kernelspec": {
   "display_name": "Python 3",
   "language": "python",
   "name": "python3"
  },
  "language_info": {
   "codemirror_mode": {
    "name": "ipython",
    "version": 3
   },
   "file_extension": ".py",
   "mimetype": "text/x-python",
   "name": "python",
   "nbconvert_exporter": "python",
   "pygments_lexer": "ipython3",
   "version": "3.7.7"
  }
 },
 "nbformat": 4,
 "nbformat_minor": 4
}
